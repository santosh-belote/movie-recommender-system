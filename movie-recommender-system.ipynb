{
 "cells": [
  {
   "cell_type": "code",
   "execution_count": 1,
   "id": "392e3c5a",
   "metadata": {
    "_cell_guid": "b1076dfc-b9ad-4769-8c92-a6c4dae69d19",
    "_uuid": "8f2839f25d086af736a60e9eeb907d3b93b6e0e5",
    "execution": {
     "iopub.execute_input": "2025-08-16T07:32:44.294025Z",
     "iopub.status.busy": "2025-08-16T07:32:44.293664Z",
     "iopub.status.idle": "2025-08-16T07:32:46.214303Z",
     "shell.execute_reply": "2025-08-16T07:32:46.213001Z"
    },
    "papermill": {
     "duration": 1.93326,
     "end_time": "2025-08-16T07:32:46.216136",
     "exception": false,
     "start_time": "2025-08-16T07:32:44.282876",
     "status": "completed"
    },
    "tags": []
   },
   "outputs": [
    {
     "name": "stdout",
     "output_type": "stream",
     "text": [
      "/kaggle/input/tmdb-movie-metadata/tmdb_5000_movies.csv\n",
      "/kaggle/input/tmdb-movie-metadata/tmdb_5000_credits.csv\n"
     ]
    }
   ],
   "source": [
    "# This Python 3 environment comes with many helpful analytics libraries installed\n",
    "# It is defined by the kaggle/python Docker image: https://github.com/kaggle/docker-python\n",
    "# For example, here's several helpful packages to load\n",
    "\n",
    "import numpy as np # linear algebra\n",
    "import pandas as pd # data processing, CSV file I/O (e.g. pd.read_csv)\n",
    "\n",
    "# Input data files are available in the read-only \"../input/\" directory\n",
    "# For example, running this (by clicking run or pressing Shift+Enter) will list all files under the input directory\n",
    "\n",
    "import os\n",
    "for dirname, _, filenames in os.walk('/kaggle/input'):\n",
    "    for filename in filenames:\n",
    "        print(os.path.join(dirname, filename))\n",
    "\n",
    "# You can write up to 20GB to the current directory (/kaggle/working/) that gets preserved as output when you create a version using \"Save & Run All\" \n",
    "# You can also write temporary files to /kaggle/temp/, but they won't be saved outside of the current session"
   ]
  },
  {
   "cell_type": "markdown",
   "id": "bf3e3003",
   "metadata": {
    "papermill": {
     "duration": 0.007812,
     "end_time": "2025-08-16T07:32:46.232370",
     "exception": false,
     "start_time": "2025-08-16T07:32:46.224558",
     "status": "completed"
    },
    "tags": []
   },
   "source": [
    "# Movies Recommender System"
   ]
  },
  {
   "cell_type": "markdown",
   "id": "41746f3f",
   "metadata": {
    "papermill": {
     "duration": 0.008966,
     "end_time": "2025-08-16T07:32:46.248835",
     "exception": false,
     "start_time": "2025-08-16T07:32:46.239869",
     "status": "completed"
    },
    "tags": []
   },
   "source": [
    "\n",
    "Steps:\n",
    "\n",
    "1. Combine movies and credits dataset and create a single pandas dataframe.\n",
    "2. Check and Remove Duplicate (if any)\n",
    "3. Check and Handle null values (if any)\n",
    "4. Perform Feature Engineering and drop unwanted features\n",
    "5. Create tags for movies by combining different features\n",
    "6. Convert list of tags into String\n",
    "7. Convert All the tags into lower case (Recommended)\n",
    "8. Perform Stemming on tags to bring different forms of words to its root version\n",
    "9. Perform Vectorizarion and Create vectors of these tags. (Represent each movie with a vector in multidimentional space)\n",
    "10. Find Similarity matrix (cosin similarity) of the movies\n",
    "11. Based on similarity matrix recommend 5 similar movies\n",
    "   "
   ]
  },
  {
   "cell_type": "markdown",
   "id": "cd03448b",
   "metadata": {
    "papermill": {
     "duration": 0.007346,
     "end_time": "2025-08-16T07:32:46.264653",
     "exception": false,
     "start_time": "2025-08-16T07:32:46.257307",
     "status": "completed"
    },
    "tags": []
   },
   "source": [
    "# Read Movies Dataframe"
   ]
  },
  {
   "cell_type": "code",
   "execution_count": 2,
   "id": "5f860dad",
   "metadata": {
    "execution": {
     "iopub.execute_input": "2025-08-16T07:32:46.282038Z",
     "iopub.status.busy": "2025-08-16T07:32:46.281519Z",
     "iopub.status.idle": "2025-08-16T07:32:46.509390Z",
     "shell.execute_reply": "2025-08-16T07:32:46.508293Z"
    },
    "papermill": {
     "duration": 0.239046,
     "end_time": "2025-08-16T07:32:46.511220",
     "exception": false,
     "start_time": "2025-08-16T07:32:46.272174",
     "status": "completed"
    },
    "tags": []
   },
   "outputs": [
    {
     "name": "stdout",
     "output_type": "stream",
     "text": [
      "<class 'pandas.core.frame.DataFrame'>\n",
      "RangeIndex: 4803 entries, 0 to 4802\n",
      "Data columns (total 20 columns):\n",
      " #   Column                Non-Null Count  Dtype  \n",
      "---  ------                --------------  -----  \n",
      " 0   budget                4803 non-null   int64  \n",
      " 1   genres                4803 non-null   object \n",
      " 2   homepage              1712 non-null   object \n",
      " 3   id                    4803 non-null   int64  \n",
      " 4   keywords              4803 non-null   object \n",
      " 5   original_language     4803 non-null   object \n",
      " 6   original_title        4803 non-null   object \n",
      " 7   overview              4800 non-null   object \n",
      " 8   popularity            4803 non-null   float64\n",
      " 9   production_companies  4803 non-null   object \n",
      " 10  production_countries  4803 non-null   object \n",
      " 11  release_date          4802 non-null   object \n",
      " 12  revenue               4803 non-null   int64  \n",
      " 13  runtime               4801 non-null   float64\n",
      " 14  spoken_languages      4803 non-null   object \n",
      " 15  status                4803 non-null   object \n",
      " 16  tagline               3959 non-null   object \n",
      " 17  title                 4803 non-null   object \n",
      " 18  vote_average          4803 non-null   float64\n",
      " 19  vote_count            4803 non-null   int64  \n",
      "dtypes: float64(3), int64(4), object(13)\n",
      "memory usage: 750.6+ KB\n"
     ]
    }
   ],
   "source": [
    "movies_df = pd.read_csv('/kaggle/input/tmdb-movie-metadata/tmdb_5000_movies.csv')\n",
    "movies_df.info()\n"
   ]
  },
  {
   "cell_type": "markdown",
   "id": "4d61fd47",
   "metadata": {
    "papermill": {
     "duration": 0.007518,
     "end_time": "2025-08-16T07:32:46.527173",
     "exception": false,
     "start_time": "2025-08-16T07:32:46.519655",
     "status": "completed"
    },
    "tags": []
   },
   "source": [
    "# Read Credits Dataframe"
   ]
  },
  {
   "cell_type": "code",
   "execution_count": 3,
   "id": "e616edd9",
   "metadata": {
    "execution": {
     "iopub.execute_input": "2025-08-16T07:32:46.543906Z",
     "iopub.status.busy": "2025-08-16T07:32:46.543572Z",
     "iopub.status.idle": "2025-08-16T07:32:47.559665Z",
     "shell.execute_reply": "2025-08-16T07:32:47.558423Z"
    },
    "papermill": {
     "duration": 1.026498,
     "end_time": "2025-08-16T07:32:47.561282",
     "exception": false,
     "start_time": "2025-08-16T07:32:46.534784",
     "status": "completed"
    },
    "tags": []
   },
   "outputs": [
    {
     "name": "stdout",
     "output_type": "stream",
     "text": [
      "<class 'pandas.core.frame.DataFrame'>\n",
      "RangeIndex: 4803 entries, 0 to 4802\n",
      "Data columns (total 4 columns):\n",
      " #   Column    Non-Null Count  Dtype \n",
      "---  ------    --------------  ----- \n",
      " 0   movie_id  4803 non-null   int64 \n",
      " 1   title     4803 non-null   object\n",
      " 2   cast      4803 non-null   object\n",
      " 3   crew      4803 non-null   object\n",
      "dtypes: int64(1), object(3)\n",
      "memory usage: 150.2+ KB\n"
     ]
    }
   ],
   "source": [
    "credits_df = pd.read_csv('/kaggle/input/tmdb-movie-metadata/tmdb_5000_credits.csv')\n",
    "credits_df.info()"
   ]
  },
  {
   "cell_type": "markdown",
   "id": "374f7830",
   "metadata": {
    "papermill": {
     "duration": 0.007436,
     "end_time": "2025-08-16T07:32:47.576577",
     "exception": false,
     "start_time": "2025-08-16T07:32:47.569141",
     "status": "completed"
    },
    "tags": []
   },
   "source": [
    "# Step 1: Combine movies and credits dataset and create a single pandas dataframe."
   ]
  },
  {
   "cell_type": "code",
   "execution_count": 4,
   "id": "bab79215",
   "metadata": {
    "execution": {
     "iopub.execute_input": "2025-08-16T07:32:47.593811Z",
     "iopub.status.busy": "2025-08-16T07:32:47.593109Z",
     "iopub.status.idle": "2025-08-16T07:32:47.614136Z",
     "shell.execute_reply": "2025-08-16T07:32:47.613195Z"
    },
    "papermill": {
     "duration": 0.031537,
     "end_time": "2025-08-16T07:32:47.615786",
     "exception": false,
     "start_time": "2025-08-16T07:32:47.584249",
     "status": "completed"
    },
    "tags": []
   },
   "outputs": [],
   "source": [
    "movies = pd.merge(movies_df,credits_df, on='title')\n"
   ]
  },
  {
   "cell_type": "markdown",
   "id": "e1306f30",
   "metadata": {
    "papermill": {
     "duration": 0.007146,
     "end_time": "2025-08-16T07:32:47.630784",
     "exception": false,
     "start_time": "2025-08-16T07:32:47.623638",
     "status": "completed"
    },
    "tags": []
   },
   "source": [
    "# Step 2: Check and Remove Duplicate (if any)\n"
   ]
  },
  {
   "cell_type": "markdown",
   "id": "86f30fa1",
   "metadata": {
    "papermill": {
     "duration": 0.00721,
     "end_time": "2025-08-16T07:32:47.645474",
     "exception": false,
     "start_time": "2025-08-16T07:32:47.638264",
     "status": "completed"
    },
    "tags": []
   },
   "source": [
    "# Step 3: Check and Handle null values (if any)"
   ]
  },
  {
   "cell_type": "code",
   "execution_count": 5,
   "id": "1bbdf8c9",
   "metadata": {
    "execution": {
     "iopub.execute_input": "2025-08-16T07:32:47.662297Z",
     "iopub.status.busy": "2025-08-16T07:32:47.661984Z",
     "iopub.status.idle": "2025-08-16T07:32:47.677764Z",
     "shell.execute_reply": "2025-08-16T07:32:47.676735Z"
    },
    "papermill": {
     "duration": 0.02624,
     "end_time": "2025-08-16T07:32:47.679307",
     "exception": false,
     "start_time": "2025-08-16T07:32:47.653067",
     "status": "completed"
    },
    "tags": []
   },
   "outputs": [
    {
     "data": {
      "text/plain": [
       "budget                     0\n",
       "genres                     0\n",
       "homepage                3096\n",
       "id                         0\n",
       "keywords                   0\n",
       "original_language          0\n",
       "original_title             0\n",
       "overview                   3\n",
       "popularity                 0\n",
       "production_companies       0\n",
       "production_countries       0\n",
       "release_date               1\n",
       "revenue                    0\n",
       "runtime                    2\n",
       "spoken_languages           0\n",
       "status                     0\n",
       "tagline                  844\n",
       "title                      0\n",
       "vote_average               0\n",
       "vote_count                 0\n",
       "movie_id                   0\n",
       "cast                       0\n",
       "crew                       0\n",
       "dtype: int64"
      ]
     },
     "execution_count": 5,
     "metadata": {},
     "output_type": "execute_result"
    }
   ],
   "source": [
    "movies.isnull().sum()"
   ]
  },
  {
   "cell_type": "code",
   "execution_count": 6,
   "id": "2ffdaacd",
   "metadata": {
    "execution": {
     "iopub.execute_input": "2025-08-16T07:32:47.696632Z",
     "iopub.status.busy": "2025-08-16T07:32:47.696322Z",
     "iopub.status.idle": "2025-08-16T07:32:47.704514Z",
     "shell.execute_reply": "2025-08-16T07:32:47.703552Z"
    },
    "papermill": {
     "duration": 0.018925,
     "end_time": "2025-08-16T07:32:47.706491",
     "exception": false,
     "start_time": "2025-08-16T07:32:47.687566",
     "status": "completed"
    },
    "tags": []
   },
   "outputs": [],
   "source": [
    "# Dropping columns that has many null values and are NOT important.\n",
    "movies = movies.drop(['homepage','tagline','release_date','runtime'], axis=1)"
   ]
  },
  {
   "cell_type": "markdown",
   "id": "35ffc44c",
   "metadata": {
    "papermill": {
     "duration": 0.007888,
     "end_time": "2025-08-16T07:32:47.723196",
     "exception": false,
     "start_time": "2025-08-16T07:32:47.715308",
     "status": "completed"
    },
    "tags": []
   },
   "source": [
    "# Step 4: Perform Feature Engineering and drop unwanted features"
   ]
  },
  {
   "cell_type": "markdown",
   "id": "8cafcf05",
   "metadata": {
    "papermill": {
     "duration": 0.007383,
     "end_time": "2025-08-16T07:32:47.738662",
     "exception": false,
     "start_time": "2025-08-16T07:32:47.731279",
     "status": "completed"
    },
    "tags": []
   },
   "source": []
  },
  {
   "cell_type": "markdown",
   "id": "564fa83f",
   "metadata": {
    "papermill": {
     "duration": 0.007716,
     "end_time": "2025-08-16T07:32:47.833787",
     "exception": false,
     "start_time": "2025-08-16T07:32:47.826071",
     "status": "completed"
    },
    "tags": []
   },
   "source": [
    "Select only below features which can contribute in movie Tags.\n",
    "1. movie ID\n",
    "2. genres\n",
    "3. keywords\n",
    "4. overview\n",
    "5. title\n",
    "6. cast\n",
    "7. crew"
   ]
  },
  {
   "cell_type": "code",
   "execution_count": 7,
   "id": "b50c1515",
   "metadata": {
    "execution": {
     "iopub.execute_input": "2025-08-16T07:32:47.851001Z",
     "iopub.status.busy": "2025-08-16T07:32:47.850635Z",
     "iopub.status.idle": "2025-08-16T07:32:47.858019Z",
     "shell.execute_reply": "2025-08-16T07:32:47.857109Z"
    },
    "papermill": {
     "duration": 0.01789,
     "end_time": "2025-08-16T07:32:47.859573",
     "exception": false,
     "start_time": "2025-08-16T07:32:47.841683",
     "status": "completed"
    },
    "tags": []
   },
   "outputs": [],
   "source": [
    "movies = movies[['id','title','overview','keywords','genres','cast','crew']]"
   ]
  },
  {
   "cell_type": "code",
   "execution_count": 8,
   "id": "e12d0443",
   "metadata": {
    "execution": {
     "iopub.execute_input": "2025-08-16T07:32:47.877121Z",
     "iopub.status.busy": "2025-08-16T07:32:47.876557Z",
     "iopub.status.idle": "2025-08-16T07:32:47.888421Z",
     "shell.execute_reply": "2025-08-16T07:32:47.887405Z"
    },
    "papermill": {
     "duration": 0.022159,
     "end_time": "2025-08-16T07:32:47.889868",
     "exception": false,
     "start_time": "2025-08-16T07:32:47.867709",
     "status": "completed"
    },
    "tags": []
   },
   "outputs": [
    {
     "data": {
      "text/plain": [
       "id          0\n",
       "title       0\n",
       "overview    3\n",
       "keywords    0\n",
       "genres      0\n",
       "cast        0\n",
       "crew        0\n",
       "dtype: int64"
      ]
     },
     "execution_count": 8,
     "metadata": {},
     "output_type": "execute_result"
    }
   ],
   "source": [
    "movies.isnull().sum()"
   ]
  },
  {
   "cell_type": "code",
   "execution_count": 9,
   "id": "8e63f916",
   "metadata": {
    "execution": {
     "iopub.execute_input": "2025-08-16T07:32:47.907329Z",
     "iopub.status.busy": "2025-08-16T07:32:47.906982Z",
     "iopub.status.idle": "2025-08-16T07:32:47.931349Z",
     "shell.execute_reply": "2025-08-16T07:32:47.930196Z"
    },
    "papermill": {
     "duration": 0.034912,
     "end_time": "2025-08-16T07:32:47.933008",
     "exception": false,
     "start_time": "2025-08-16T07:32:47.898096",
     "status": "completed"
    },
    "tags": []
   },
   "outputs": [
    {
     "data": {
      "text/html": [
       "<div>\n",
       "<style scoped>\n",
       "    .dataframe tbody tr th:only-of-type {\n",
       "        vertical-align: middle;\n",
       "    }\n",
       "\n",
       "    .dataframe tbody tr th {\n",
       "        vertical-align: top;\n",
       "    }\n",
       "\n",
       "    .dataframe thead th {\n",
       "        text-align: right;\n",
       "    }\n",
       "</style>\n",
       "<table border=\"1\" class=\"dataframe\">\n",
       "  <thead>\n",
       "    <tr style=\"text-align: right;\">\n",
       "      <th></th>\n",
       "      <th>id</th>\n",
       "      <th>title</th>\n",
       "      <th>overview</th>\n",
       "      <th>keywords</th>\n",
       "      <th>genres</th>\n",
       "      <th>cast</th>\n",
       "      <th>crew</th>\n",
       "    </tr>\n",
       "  </thead>\n",
       "  <tbody>\n",
       "    <tr>\n",
       "      <th>2658</th>\n",
       "      <td>370980</td>\n",
       "      <td>Chiamatemi Francesco - Il Papa della gente</td>\n",
       "      <td>NaN</td>\n",
       "      <td>[{\"id\": 717, \"name\": \"pope\"}, {\"id\": 5565, \"na...</td>\n",
       "      <td>[{\"id\": 18, \"name\": \"Drama\"}]</td>\n",
       "      <td>[{\"cast_id\": 5, \"character\": \"Jorge Mario Berg...</td>\n",
       "      <td>[{\"credit_id\": \"5660019ac3a36875f100252b\", \"de...</td>\n",
       "    </tr>\n",
       "    <tr>\n",
       "      <th>4145</th>\n",
       "      <td>459488</td>\n",
       "      <td>To Be Frank, Sinatra at 100</td>\n",
       "      <td>NaN</td>\n",
       "      <td>[{\"id\": 6027, \"name\": \"music\"}, {\"id\": 225822,...</td>\n",
       "      <td>[{\"id\": 99, \"name\": \"Documentary\"}]</td>\n",
       "      <td>[{\"cast_id\": 0, \"character\": \"Narrator\", \"cred...</td>\n",
       "      <td>[{\"credit_id\": \"592b25e4c3a368783e065a2f\", \"de...</td>\n",
       "    </tr>\n",
       "    <tr>\n",
       "      <th>4437</th>\n",
       "      <td>292539</td>\n",
       "      <td>Food Chains</td>\n",
       "      <td>NaN</td>\n",
       "      <td>[]</td>\n",
       "      <td>[{\"id\": 99, \"name\": \"Documentary\"}]</td>\n",
       "      <td>[]</td>\n",
       "      <td>[{\"credit_id\": \"5470c3b1c3a368085e000abd\", \"de...</td>\n",
       "    </tr>\n",
       "  </tbody>\n",
       "</table>\n",
       "</div>"
      ],
      "text/plain": [
       "          id                                       title overview  \\\n",
       "2658  370980  Chiamatemi Francesco - Il Papa della gente      NaN   \n",
       "4145  459488                 To Be Frank, Sinatra at 100      NaN   \n",
       "4437  292539                                 Food Chains      NaN   \n",
       "\n",
       "                                               keywords  \\\n",
       "2658  [{\"id\": 717, \"name\": \"pope\"}, {\"id\": 5565, \"na...   \n",
       "4145  [{\"id\": 6027, \"name\": \"music\"}, {\"id\": 225822,...   \n",
       "4437                                                 []   \n",
       "\n",
       "                                   genres  \\\n",
       "2658        [{\"id\": 18, \"name\": \"Drama\"}]   \n",
       "4145  [{\"id\": 99, \"name\": \"Documentary\"}]   \n",
       "4437  [{\"id\": 99, \"name\": \"Documentary\"}]   \n",
       "\n",
       "                                                   cast  \\\n",
       "2658  [{\"cast_id\": 5, \"character\": \"Jorge Mario Berg...   \n",
       "4145  [{\"cast_id\": 0, \"character\": \"Narrator\", \"cred...   \n",
       "4437                                                 []   \n",
       "\n",
       "                                                   crew  \n",
       "2658  [{\"credit_id\": \"5660019ac3a36875f100252b\", \"de...  \n",
       "4145  [{\"credit_id\": \"592b25e4c3a368783e065a2f\", \"de...  \n",
       "4437  [{\"credit_id\": \"5470c3b1c3a368085e000abd\", \"de...  "
      ]
     },
     "execution_count": 9,
     "metadata": {},
     "output_type": "execute_result"
    }
   ],
   "source": [
    "movies[movies['overview'].isna()]"
   ]
  },
  {
   "cell_type": "code",
   "execution_count": 10,
   "id": "99350831",
   "metadata": {
    "execution": {
     "iopub.execute_input": "2025-08-16T07:32:47.951505Z",
     "iopub.status.busy": "2025-08-16T07:32:47.951197Z",
     "iopub.status.idle": "2025-08-16T07:32:47.962720Z",
     "shell.execute_reply": "2025-08-16T07:32:47.961787Z"
    },
    "papermill": {
     "duration": 0.02306,
     "end_time": "2025-08-16T07:32:47.964461",
     "exception": false,
     "start_time": "2025-08-16T07:32:47.941401",
     "status": "completed"
    },
    "tags": []
   },
   "outputs": [],
   "source": [
    "# Drop rows with null values in 'overview'\n",
    "movies.shape\n",
    "movies = movies.dropna()\n"
   ]
  },
  {
   "cell_type": "markdown",
   "id": "033048a9",
   "metadata": {
    "papermill": {
     "duration": 0.007827,
     "end_time": "2025-08-16T07:32:47.980553",
     "exception": false,
     "start_time": "2025-08-16T07:32:47.972726",
     "status": "completed"
    },
    "tags": []
   },
   "source": [
    "# Split the Sentence and Create tokens from 'overview'"
   ]
  },
  {
   "cell_type": "code",
   "execution_count": 11,
   "id": "63eb1bf2",
   "metadata": {
    "execution": {
     "iopub.execute_input": "2025-08-16T07:32:47.997994Z",
     "iopub.status.busy": "2025-08-16T07:32:47.997650Z",
     "iopub.status.idle": "2025-08-16T07:32:48.123505Z",
     "shell.execute_reply": "2025-08-16T07:32:48.122383Z"
    },
    "papermill": {
     "duration": 0.136591,
     "end_time": "2025-08-16T07:32:48.125175",
     "exception": false,
     "start_time": "2025-08-16T07:32:47.988584",
     "status": "completed"
    },
    "tags": []
   },
   "outputs": [],
   "source": [
    "movies['overview'] = movies['overview'].apply(lambda x: x.split())"
   ]
  },
  {
   "cell_type": "markdown",
   "id": "aa5c1b84",
   "metadata": {
    "papermill": {
     "duration": 0.00811,
     "end_time": "2025-08-16T07:32:48.141634",
     "exception": false,
     "start_time": "2025-08-16T07:32:48.133524",
     "status": "completed"
    },
    "tags": []
   },
   "source": [
    "# Create a Function which extracts name from 'Genres' and 'keywords'"
   ]
  },
  {
   "cell_type": "code",
   "execution_count": 12,
   "id": "afdcbd02",
   "metadata": {
    "execution": {
     "iopub.execute_input": "2025-08-16T07:32:48.164673Z",
     "iopub.status.busy": "2025-08-16T07:32:48.164356Z",
     "iopub.status.idle": "2025-08-16T07:32:48.169208Z",
     "shell.execute_reply": "2025-08-16T07:32:48.168457Z"
    },
    "papermill": {
     "duration": 0.016625,
     "end_time": "2025-08-16T07:32:48.170665",
     "exception": false,
     "start_time": "2025-08-16T07:32:48.154040",
     "status": "completed"
    },
    "tags": []
   },
   "outputs": [],
   "source": [
    "def name_extractor(text):\n",
    "    lst = []\n",
    "    for item in eval(text):\n",
    "        lst.append(item['name'])\n",
    "    return lst"
   ]
  },
  {
   "cell_type": "code",
   "execution_count": 13,
   "id": "dbd030fa",
   "metadata": {
    "execution": {
     "iopub.execute_input": "2025-08-16T07:32:48.190867Z",
     "iopub.status.busy": "2025-08-16T07:32:48.189768Z",
     "iopub.status.idle": "2025-08-16T07:32:48.639646Z",
     "shell.execute_reply": "2025-08-16T07:32:48.638518Z"
    },
    "papermill": {
     "duration": 0.461086,
     "end_time": "2025-08-16T07:32:48.641368",
     "exception": false,
     "start_time": "2025-08-16T07:32:48.180282",
     "status": "completed"
    },
    "tags": []
   },
   "outputs": [],
   "source": [
    "movies['keywords'] = movies['keywords'].apply(name_extractor)\n",
    "movies['genres'] = movies['genres'].apply(name_extractor)"
   ]
  },
  {
   "cell_type": "markdown",
   "id": "9e0f185e",
   "metadata": {
    "papermill": {
     "duration": 0.007692,
     "end_time": "2025-08-16T07:32:48.657747",
     "exception": false,
     "start_time": "2025-08-16T07:32:48.650055",
     "status": "completed"
    },
    "tags": []
   },
   "source": [
    "# Extract Top 3 Cast"
   ]
  },
  {
   "cell_type": "code",
   "execution_count": 14,
   "id": "d927eb83",
   "metadata": {
    "execution": {
     "iopub.execute_input": "2025-08-16T07:32:48.675332Z",
     "iopub.status.busy": "2025-08-16T07:32:48.674975Z",
     "iopub.status.idle": "2025-08-16T07:32:48.679931Z",
     "shell.execute_reply": "2025-08-16T07:32:48.679079Z"
    },
    "papermill": {
     "duration": 0.015397,
     "end_time": "2025-08-16T07:32:48.681320",
     "exception": false,
     "start_time": "2025-08-16T07:32:48.665923",
     "status": "completed"
    },
    "tags": []
   },
   "outputs": [],
   "source": [
    "def cast_extractor(text):\n",
    "    cast = []\n",
    "    count = 0\n",
    "    for item in eval(text):\n",
    "        if(count < 3):\n",
    "            cast.append(item['name'])\n",
    "            count += 1\n",
    "        else:\n",
    "            break;\n",
    "    return cast\n",
    "        "
   ]
  },
  {
   "cell_type": "code",
   "execution_count": 15,
   "id": "b09eeef9",
   "metadata": {
    "execution": {
     "iopub.execute_input": "2025-08-16T07:32:48.699787Z",
     "iopub.status.busy": "2025-08-16T07:32:48.698771Z",
     "iopub.status.idle": "2025-08-16T07:32:51.140808Z",
     "shell.execute_reply": "2025-08-16T07:32:51.139906Z"
    },
    "papermill": {
     "duration": 2.453066,
     "end_time": "2025-08-16T07:32:51.142708",
     "exception": false,
     "start_time": "2025-08-16T07:32:48.689642",
     "status": "completed"
    },
    "tags": []
   },
   "outputs": [],
   "source": [
    "movies['cast'] = movies['cast'].apply(cast_extractor)"
   ]
  },
  {
   "cell_type": "markdown",
   "id": "aa89f47b",
   "metadata": {
    "papermill": {
     "duration": 0.010261,
     "end_time": "2025-08-16T07:32:51.163045",
     "exception": false,
     "start_time": "2025-08-16T07:32:51.152784",
     "status": "completed"
    },
    "tags": []
   },
   "source": [
    "# Extract Director from Crew"
   ]
  },
  {
   "cell_type": "code",
   "execution_count": 16,
   "id": "c58bf9b9",
   "metadata": {
    "execution": {
     "iopub.execute_input": "2025-08-16T07:32:51.181080Z",
     "iopub.status.busy": "2025-08-16T07:32:51.180693Z",
     "iopub.status.idle": "2025-08-16T07:32:51.186208Z",
     "shell.execute_reply": "2025-08-16T07:32:51.185224Z"
    },
    "papermill": {
     "duration": 0.016284,
     "end_time": "2025-08-16T07:32:51.187702",
     "exception": false,
     "start_time": "2025-08-16T07:32:51.171418",
     "status": "completed"
    },
    "tags": []
   },
   "outputs": [],
   "source": [
    "def fetch_director(text):\n",
    "    director = []\n",
    "    for item in eval(text):\n",
    "        if(item['job'] == 'Director'):\n",
    "            director.append(item['name'])\n",
    "            break;\n",
    "    return director\n",
    "            "
   ]
  },
  {
   "cell_type": "code",
   "execution_count": 17,
   "id": "03db0a6d",
   "metadata": {
    "execution": {
     "iopub.execute_input": "2025-08-16T07:32:51.205555Z",
     "iopub.status.busy": "2025-08-16T07:32:51.205195Z",
     "iopub.status.idle": "2025-08-16T07:32:53.866480Z",
     "shell.execute_reply": "2025-08-16T07:32:53.865392Z"
    },
    "papermill": {
     "duration": 2.672073,
     "end_time": "2025-08-16T07:32:53.868265",
     "exception": false,
     "start_time": "2025-08-16T07:32:51.196192",
     "status": "completed"
    },
    "tags": []
   },
   "outputs": [],
   "source": [
    "movies['crew'] = movies['crew'].apply(fetch_director)"
   ]
  },
  {
   "cell_type": "code",
   "execution_count": 18,
   "id": "9135dfc2",
   "metadata": {
    "execution": {
     "iopub.execute_input": "2025-08-16T07:32:53.886716Z",
     "iopub.status.busy": "2025-08-16T07:32:53.886366Z",
     "iopub.status.idle": "2025-08-16T07:32:53.922102Z",
     "shell.execute_reply": "2025-08-16T07:32:53.920977Z"
    },
    "papermill": {
     "duration": 0.047021,
     "end_time": "2025-08-16T07:32:53.923817",
     "exception": false,
     "start_time": "2025-08-16T07:32:53.876796",
     "status": "completed"
    },
    "tags": []
   },
   "outputs": [],
   "source": [
    "\n",
    "movies['keywords'] = movies['keywords'].apply(lambda x: [item.replace(\" \",\"\") for item in x])\n",
    "movies['genres'] = movies['genres'].apply(lambda x: [item.replace(\" \",\"\") for item in x])\n",
    "movies['cast'] = movies['cast'].apply(lambda x: [item.replace(\" \",\"\") for item in x])\n",
    "movies['crew'] = movies['crew'].apply(lambda x: [item.replace(\" \",\"\") for item in x])\n",
    "\n"
   ]
  },
  {
   "cell_type": "markdown",
   "id": "da2cb1c0",
   "metadata": {
    "papermill": {
     "duration": 0.008664,
     "end_time": "2025-08-16T07:32:53.940853",
     "exception": false,
     "start_time": "2025-08-16T07:32:53.932189",
     "status": "completed"
    },
    "tags": []
   },
   "source": [
    "# Step 5: Create tags for movies by combining different features. like overview, keywords, genres, cast, crew."
   ]
  },
  {
   "cell_type": "code",
   "execution_count": 19,
   "id": "1321430d",
   "metadata": {
    "execution": {
     "iopub.execute_input": "2025-08-16T07:32:53.961530Z",
     "iopub.status.busy": "2025-08-16T07:32:53.961103Z",
     "iopub.status.idle": "2025-08-16T07:32:54.030050Z",
     "shell.execute_reply": "2025-08-16T07:32:54.029002Z"
    },
    "papermill": {
     "duration": 0.081795,
     "end_time": "2025-08-16T07:32:54.031848",
     "exception": false,
     "start_time": "2025-08-16T07:32:53.950053",
     "status": "completed"
    },
    "tags": []
   },
   "outputs": [],
   "source": [
    "movies['tags'] = movies['overview'] + movies['keywords'] + movies['genres'] + movies['cast'] + movies['crew']"
   ]
  },
  {
   "cell_type": "code",
   "execution_count": 20,
   "id": "8c84df9d",
   "metadata": {
    "execution": {
     "iopub.execute_input": "2025-08-16T07:32:54.050665Z",
     "iopub.status.busy": "2025-08-16T07:32:54.050379Z",
     "iopub.status.idle": "2025-08-16T07:32:54.064338Z",
     "shell.execute_reply": "2025-08-16T07:32:54.063426Z"
    },
    "papermill": {
     "duration": 0.025694,
     "end_time": "2025-08-16T07:32:54.065979",
     "exception": false,
     "start_time": "2025-08-16T07:32:54.040285",
     "status": "completed"
    },
    "tags": []
   },
   "outputs": [
    {
     "data": {
      "text/html": [
       "<div>\n",
       "<style scoped>\n",
       "    .dataframe tbody tr th:only-of-type {\n",
       "        vertical-align: middle;\n",
       "    }\n",
       "\n",
       "    .dataframe tbody tr th {\n",
       "        vertical-align: top;\n",
       "    }\n",
       "\n",
       "    .dataframe thead th {\n",
       "        text-align: right;\n",
       "    }\n",
       "</style>\n",
       "<table border=\"1\" class=\"dataframe\">\n",
       "  <thead>\n",
       "    <tr style=\"text-align: right;\">\n",
       "      <th></th>\n",
       "      <th>id</th>\n",
       "      <th>title</th>\n",
       "      <th>tags</th>\n",
       "    </tr>\n",
       "  </thead>\n",
       "  <tbody>\n",
       "    <tr>\n",
       "      <th>0</th>\n",
       "      <td>19995</td>\n",
       "      <td>Avatar</td>\n",
       "      <td>[In, the, 22nd, century,, a, paraplegic, Marin...</td>\n",
       "    </tr>\n",
       "    <tr>\n",
       "      <th>1</th>\n",
       "      <td>285</td>\n",
       "      <td>Pirates of the Caribbean: At World's End</td>\n",
       "      <td>[Captain, Barbossa,, long, believed, to, be, d...</td>\n",
       "    </tr>\n",
       "    <tr>\n",
       "      <th>2</th>\n",
       "      <td>206647</td>\n",
       "      <td>Spectre</td>\n",
       "      <td>[A, cryptic, message, from, Bond’s, past, send...</td>\n",
       "    </tr>\n",
       "    <tr>\n",
       "      <th>3</th>\n",
       "      <td>49026</td>\n",
       "      <td>The Dark Knight Rises</td>\n",
       "      <td>[Following, the, death, of, District, Attorney...</td>\n",
       "    </tr>\n",
       "    <tr>\n",
       "      <th>4</th>\n",
       "      <td>49529</td>\n",
       "      <td>John Carter</td>\n",
       "      <td>[John, Carter, is, a, war-weary,, former, mili...</td>\n",
       "    </tr>\n",
       "  </tbody>\n",
       "</table>\n",
       "</div>"
      ],
      "text/plain": [
       "       id                                     title  \\\n",
       "0   19995                                    Avatar   \n",
       "1     285  Pirates of the Caribbean: At World's End   \n",
       "2  206647                                   Spectre   \n",
       "3   49026                     The Dark Knight Rises   \n",
       "4   49529                               John Carter   \n",
       "\n",
       "                                                tags  \n",
       "0  [In, the, 22nd, century,, a, paraplegic, Marin...  \n",
       "1  [Captain, Barbossa,, long, believed, to, be, d...  \n",
       "2  [A, cryptic, message, from, Bond’s, past, send...  \n",
       "3  [Following, the, death, of, District, Attorney...  \n",
       "4  [John, Carter, is, a, war-weary,, former, mili...  "
      ]
     },
     "execution_count": 20,
     "metadata": {},
     "output_type": "execute_result"
    }
   ],
   "source": [
    "movies_new = movies[['id','title','tags']]\n",
    "movies_new.head()"
   ]
  },
  {
   "cell_type": "markdown",
   "id": "7afbed8e",
   "metadata": {
    "papermill": {
     "duration": 0.008218,
     "end_time": "2025-08-16T07:32:54.082875",
     "exception": false,
     "start_time": "2025-08-16T07:32:54.074657",
     "status": "completed"
    },
    "tags": []
   },
   "source": [
    "# Step 6: Convert list of tags into String"
   ]
  },
  {
   "cell_type": "code",
   "execution_count": 21,
   "id": "4a05196c",
   "metadata": {
    "execution": {
     "iopub.execute_input": "2025-08-16T07:32:54.101390Z",
     "iopub.status.busy": "2025-08-16T07:32:54.100781Z",
     "iopub.status.idle": "2025-08-16T07:32:54.120342Z",
     "shell.execute_reply": "2025-08-16T07:32:54.119488Z"
    },
    "papermill": {
     "duration": 0.030846,
     "end_time": "2025-08-16T07:32:54.122083",
     "exception": false,
     "start_time": "2025-08-16T07:32:54.091237",
     "status": "completed"
    },
    "tags": []
   },
   "outputs": [
    {
     "name": "stderr",
     "output_type": "stream",
     "text": [
      "/tmp/ipykernel_13/4165223031.py:1: SettingWithCopyWarning: \n",
      "A value is trying to be set on a copy of a slice from a DataFrame.\n",
      "Try using .loc[row_indexer,col_indexer] = value instead\n",
      "\n",
      "See the caveats in the documentation: https://pandas.pydata.org/pandas-docs/stable/user_guide/indexing.html#returning-a-view-versus-a-copy\n",
      "  movies_new['tags'] = movies_new['tags'].apply(lambda x: \" \".join(x))\n"
     ]
    }
   ],
   "source": [
    "movies_new['tags'] = movies_new['tags'].apply(lambda x: \" \".join(x))"
   ]
  },
  {
   "cell_type": "code",
   "execution_count": 22,
   "id": "0d9732c4",
   "metadata": {
    "execution": {
     "iopub.execute_input": "2025-08-16T07:32:54.140657Z",
     "iopub.status.busy": "2025-08-16T07:32:54.140321Z",
     "iopub.status.idle": "2025-08-16T07:32:54.156647Z",
     "shell.execute_reply": "2025-08-16T07:32:54.155581Z"
    },
    "papermill": {
     "duration": 0.0276,
     "end_time": "2025-08-16T07:32:54.158338",
     "exception": false,
     "start_time": "2025-08-16T07:32:54.130738",
     "status": "completed"
    },
    "tags": []
   },
   "outputs": [
    {
     "name": "stderr",
     "output_type": "stream",
     "text": [
      "/tmp/ipykernel_13/3445712843.py:1: SettingWithCopyWarning: \n",
      "A value is trying to be set on a copy of a slice from a DataFrame.\n",
      "Try using .loc[row_indexer,col_indexer] = value instead\n",
      "\n",
      "See the caveats in the documentation: https://pandas.pydata.org/pandas-docs/stable/user_guide/indexing.html#returning-a-view-versus-a-copy\n",
      "  movies_new['tags'] = movies_new['tags'].apply(lambda x: x.lower())\n"
     ]
    }
   ],
   "source": [
    "movies_new['tags'] = movies_new['tags'].apply(lambda x: x.lower())"
   ]
  },
  {
   "cell_type": "markdown",
   "id": "9aa486f6",
   "metadata": {
    "papermill": {
     "duration": 0.009171,
     "end_time": "2025-08-16T07:32:54.178288",
     "exception": false,
     "start_time": "2025-08-16T07:32:54.169117",
     "status": "completed"
    },
    "tags": []
   },
   "source": [
    "# Step 7: Convert All the tags into lower case (Recommended)"
   ]
  },
  {
   "cell_type": "code",
   "execution_count": 23,
   "id": "d66e1a80",
   "metadata": {
    "execution": {
     "iopub.execute_input": "2025-08-16T07:32:54.198035Z",
     "iopub.status.busy": "2025-08-16T07:32:54.197680Z",
     "iopub.status.idle": "2025-08-16T07:32:54.207342Z",
     "shell.execute_reply": "2025-08-16T07:32:54.206375Z"
    },
    "papermill": {
     "duration": 0.021125,
     "end_time": "2025-08-16T07:32:54.208904",
     "exception": false,
     "start_time": "2025-08-16T07:32:54.187779",
     "status": "completed"
    },
    "tags": []
   },
   "outputs": [
    {
     "data": {
      "text/html": [
       "<div>\n",
       "<style scoped>\n",
       "    .dataframe tbody tr th:only-of-type {\n",
       "        vertical-align: middle;\n",
       "    }\n",
       "\n",
       "    .dataframe tbody tr th {\n",
       "        vertical-align: top;\n",
       "    }\n",
       "\n",
       "    .dataframe thead th {\n",
       "        text-align: right;\n",
       "    }\n",
       "</style>\n",
       "<table border=\"1\" class=\"dataframe\">\n",
       "  <thead>\n",
       "    <tr style=\"text-align: right;\">\n",
       "      <th></th>\n",
       "      <th>id</th>\n",
       "      <th>title</th>\n",
       "      <th>tags</th>\n",
       "    </tr>\n",
       "  </thead>\n",
       "  <tbody>\n",
       "    <tr>\n",
       "      <th>0</th>\n",
       "      <td>19995</td>\n",
       "      <td>Avatar</td>\n",
       "      <td>in the 22nd century, a paraplegic marine is di...</td>\n",
       "    </tr>\n",
       "    <tr>\n",
       "      <th>1</th>\n",
       "      <td>285</td>\n",
       "      <td>Pirates of the Caribbean: At World's End</td>\n",
       "      <td>captain barbossa, long believed to be dead, ha...</td>\n",
       "    </tr>\n",
       "    <tr>\n",
       "      <th>2</th>\n",
       "      <td>206647</td>\n",
       "      <td>Spectre</td>\n",
       "      <td>a cryptic message from bond’s past sends him o...</td>\n",
       "    </tr>\n",
       "    <tr>\n",
       "      <th>3</th>\n",
       "      <td>49026</td>\n",
       "      <td>The Dark Knight Rises</td>\n",
       "      <td>following the death of district attorney harve...</td>\n",
       "    </tr>\n",
       "    <tr>\n",
       "      <th>4</th>\n",
       "      <td>49529</td>\n",
       "      <td>John Carter</td>\n",
       "      <td>john carter is a war-weary, former military ca...</td>\n",
       "    </tr>\n",
       "  </tbody>\n",
       "</table>\n",
       "</div>"
      ],
      "text/plain": [
       "       id                                     title  \\\n",
       "0   19995                                    Avatar   \n",
       "1     285  Pirates of the Caribbean: At World's End   \n",
       "2  206647                                   Spectre   \n",
       "3   49026                     The Dark Knight Rises   \n",
       "4   49529                               John Carter   \n",
       "\n",
       "                                                tags  \n",
       "0  in the 22nd century, a paraplegic marine is di...  \n",
       "1  captain barbossa, long believed to be dead, ha...  \n",
       "2  a cryptic message from bond’s past sends him o...  \n",
       "3  following the death of district attorney harve...  \n",
       "4  john carter is a war-weary, former military ca...  "
      ]
     },
     "execution_count": 23,
     "metadata": {},
     "output_type": "execute_result"
    }
   ],
   "source": [
    "movies_new.head()"
   ]
  },
  {
   "cell_type": "markdown",
   "id": "f88a5d84",
   "metadata": {
    "papermill": {
     "duration": 0.008467,
     "end_time": "2025-08-16T07:32:54.226731",
     "exception": false,
     "start_time": "2025-08-16T07:32:54.218264",
     "status": "completed"
    },
    "tags": []
   },
   "source": [
    "# Step 8: Perform Stemming on tags to bring different forms of words to its root version\n",
    "# e.g ['love' ,'loving' , 'loved'] -> after Stemming - ['love' ,'love' , 'love']"
   ]
  },
  {
   "cell_type": "code",
   "execution_count": 24,
   "id": "de442e67",
   "metadata": {
    "execution": {
     "iopub.execute_input": "2025-08-16T07:32:54.247020Z",
     "iopub.status.busy": "2025-08-16T07:32:54.245842Z",
     "iopub.status.idle": "2025-08-16T07:32:54.250424Z",
     "shell.execute_reply": "2025-08-16T07:32:54.249498Z"
    },
    "papermill": {
     "duration": 0.016067,
     "end_time": "2025-08-16T07:32:54.252126",
     "exception": false,
     "start_time": "2025-08-16T07:32:54.236059",
     "status": "completed"
    },
    "tags": []
   },
   "outputs": [],
   "source": [
    "# Install nltk library (if not already installed) for Stemming\n",
    "#!pip install nltk"
   ]
  },
  {
   "cell_type": "code",
   "execution_count": 25,
   "id": "00a18732",
   "metadata": {
    "execution": {
     "iopub.execute_input": "2025-08-16T07:32:54.273330Z",
     "iopub.status.busy": "2025-08-16T07:32:54.272959Z",
     "iopub.status.idle": "2025-08-16T07:32:56.821471Z",
     "shell.execute_reply": "2025-08-16T07:32:56.820341Z"
    },
    "papermill": {
     "duration": 2.561334,
     "end_time": "2025-08-16T07:32:56.823428",
     "exception": false,
     "start_time": "2025-08-16T07:32:54.262094",
     "status": "completed"
    },
    "tags": []
   },
   "outputs": [],
   "source": [
    "import nltk\n",
    "from nltk.stem.porter import PorterStemmer\n",
    "ps = PorterStemmer()"
   ]
  },
  {
   "cell_type": "code",
   "execution_count": 26,
   "id": "a5b55ca0",
   "metadata": {
    "execution": {
     "iopub.execute_input": "2025-08-16T07:32:56.843167Z",
     "iopub.status.busy": "2025-08-16T07:32:56.842668Z",
     "iopub.status.idle": "2025-08-16T07:32:56.848289Z",
     "shell.execute_reply": "2025-08-16T07:32:56.847086Z"
    },
    "papermill": {
     "duration": 0.017219,
     "end_time": "2025-08-16T07:32:56.849820",
     "exception": false,
     "start_time": "2025-08-16T07:32:56.832601",
     "status": "completed"
    },
    "tags": []
   },
   "outputs": [],
   "source": [
    "def stem(text):\n",
    "    stem_words =[]\n",
    "    for i in text.split():\n",
    "        stem_words.append(ps.stem(i))\n",
    "    return \" \".join(stem_words)"
   ]
  },
  {
   "cell_type": "code",
   "execution_count": 27,
   "id": "27ea25e5",
   "metadata": {
    "execution": {
     "iopub.execute_input": "2025-08-16T07:32:56.868791Z",
     "iopub.status.busy": "2025-08-16T07:32:56.868467Z",
     "iopub.status.idle": "2025-08-16T07:33:01.301658Z",
     "shell.execute_reply": "2025-08-16T07:33:01.300635Z"
    },
    "papermill": {
     "duration": 4.444504,
     "end_time": "2025-08-16T07:33:01.303302",
     "exception": false,
     "start_time": "2025-08-16T07:32:56.858798",
     "status": "completed"
    },
    "tags": []
   },
   "outputs": [
    {
     "name": "stderr",
     "output_type": "stream",
     "text": [
      "/tmp/ipykernel_13/2888141280.py:1: SettingWithCopyWarning: \n",
      "A value is trying to be set on a copy of a slice from a DataFrame.\n",
      "Try using .loc[row_indexer,col_indexer] = value instead\n",
      "\n",
      "See the caveats in the documentation: https://pandas.pydata.org/pandas-docs/stable/user_guide/indexing.html#returning-a-view-versus-a-copy\n",
      "  movies_new['tags'] = movies_new['tags'].apply(stem)\n"
     ]
    }
   ],
   "source": [
    "movies_new['tags'] = movies_new['tags'].apply(stem)"
   ]
  },
  {
   "cell_type": "markdown",
   "id": "15a6d42c",
   "metadata": {
    "papermill": {
     "duration": 0.008687,
     "end_time": "2025-08-16T07:33:01.321103",
     "exception": false,
     "start_time": "2025-08-16T07:33:01.312416",
     "status": "completed"
    },
    "tags": []
   },
   "source": [
    "# Step 9: Perform Vectorizarion and Create vectors of these tags. (Represent each movie with a vector in multidimentional space)"
   ]
  },
  {
   "cell_type": "code",
   "execution_count": 28,
   "id": "ef5a1eef",
   "metadata": {
    "execution": {
     "iopub.execute_input": "2025-08-16T07:33:01.341862Z",
     "iopub.status.busy": "2025-08-16T07:33:01.341537Z",
     "iopub.status.idle": "2025-08-16T07:33:01.346531Z",
     "shell.execute_reply": "2025-08-16T07:33:01.345335Z"
    },
    "papermill": {
     "duration": 0.018132,
     "end_time": "2025-08-16T07:33:01.348435",
     "exception": false,
     "start_time": "2025-08-16T07:33:01.330303",
     "status": "completed"
    },
    "tags": []
   },
   "outputs": [],
   "source": [
    "# perform vectorization of tags using CountVector\n",
    "from sklearn.feature_extraction.text import CountVectorizer"
   ]
  },
  {
   "cell_type": "code",
   "execution_count": 29,
   "id": "0a66eb31",
   "metadata": {
    "execution": {
     "iopub.execute_input": "2025-08-16T07:33:01.368704Z",
     "iopub.status.busy": "2025-08-16T07:33:01.368366Z",
     "iopub.status.idle": "2025-08-16T07:33:01.924332Z",
     "shell.execute_reply": "2025-08-16T07:33:01.923178Z"
    },
    "papermill": {
     "duration": 0.567864,
     "end_time": "2025-08-16T07:33:01.926346",
     "exception": false,
     "start_time": "2025-08-16T07:33:01.358482",
     "status": "completed"
    },
    "tags": []
   },
   "outputs": [],
   "source": [
    "cv = CountVectorizer(max_features=5000,stop_words='english')\n",
    "vectors = cv.fit_transform(movies_new['tags']).toarray()"
   ]
  },
  {
   "cell_type": "code",
   "execution_count": 30,
   "id": "aa95c291",
   "metadata": {
    "execution": {
     "iopub.execute_input": "2025-08-16T07:33:01.948063Z",
     "iopub.status.busy": "2025-08-16T07:33:01.947699Z",
     "iopub.status.idle": "2025-08-16T07:33:01.952446Z",
     "shell.execute_reply": "2025-08-16T07:33:01.951459Z"
    },
    "papermill": {
     "duration": 0.017454,
     "end_time": "2025-08-16T07:33:01.954171",
     "exception": false,
     "start_time": "2025-08-16T07:33:01.936717",
     "status": "completed"
    },
    "tags": []
   },
   "outputs": [],
   "source": [
    "# To check vectors\n",
    "#cv.get_feature_names_out()\n"
   ]
  },
  {
   "cell_type": "markdown",
   "id": "a978aa6a",
   "metadata": {
    "papermill": {
     "duration": 0.009036,
     "end_time": "2025-08-16T07:33:01.973019",
     "exception": false,
     "start_time": "2025-08-16T07:33:01.963983",
     "status": "completed"
    },
    "tags": []
   },
   "source": [
    "# Step 10: Find Similarity matrix (cosin similarity) of the movies"
   ]
  },
  {
   "cell_type": "code",
   "execution_count": 31,
   "id": "dac0ac60",
   "metadata": {
    "execution": {
     "iopub.execute_input": "2025-08-16T07:33:01.992878Z",
     "iopub.status.busy": "2025-08-16T07:33:01.992542Z",
     "iopub.status.idle": "2025-08-16T07:33:04.225860Z",
     "shell.execute_reply": "2025-08-16T07:33:04.224952Z"
    },
    "papermill": {
     "duration": 2.245839,
     "end_time": "2025-08-16T07:33:04.227766",
     "exception": false,
     "start_time": "2025-08-16T07:33:01.981927",
     "status": "completed"
    },
    "tags": []
   },
   "outputs": [],
   "source": [
    "from sklearn.metrics.pairwise import cosine_similarity\n",
    "similarity = cosine_similarity(vectors)"
   ]
  },
  {
   "cell_type": "code",
   "execution_count": 32,
   "id": "7b873674",
   "metadata": {
    "execution": {
     "iopub.execute_input": "2025-08-16T07:33:04.247507Z",
     "iopub.status.busy": "2025-08-16T07:33:04.247065Z",
     "iopub.status.idle": "2025-08-16T07:33:04.252063Z",
     "shell.execute_reply": "2025-08-16T07:33:04.250714Z"
    },
    "papermill": {
     "duration": 0.016868,
     "end_time": "2025-08-16T07:33:04.253859",
     "exception": false,
     "start_time": "2025-08-16T07:33:04.236991",
     "status": "completed"
    },
    "tags": []
   },
   "outputs": [],
   "source": [
    "#movies_new[movies_new['title'] == 'Spider Man']\n",
    "#movies_new[movies_new['id'] == '1214']\n",
    "#similarity[0]\n",
    "#movies_new.iloc[1214]['title']\n",
    "#sorted(list(enumerate(similarity[0])),reverse=True,key=lambda x:x[1])[1:6]\n",
    "#list(enumerate(similarity[0]))"
   ]
  },
  {
   "cell_type": "code",
   "execution_count": 33,
   "id": "1898f4c5",
   "metadata": {
    "execution": {
     "iopub.execute_input": "2025-08-16T07:33:04.273254Z",
     "iopub.status.busy": "2025-08-16T07:33:04.272799Z",
     "iopub.status.idle": "2025-08-16T07:33:04.279556Z",
     "shell.execute_reply": "2025-08-16T07:33:04.278620Z"
    },
    "papermill": {
     "duration": 0.018195,
     "end_time": "2025-08-16T07:33:04.281130",
     "exception": false,
     "start_time": "2025-08-16T07:33:04.262935",
     "status": "completed"
    },
    "tags": []
   },
   "outputs": [],
   "source": [
    "def recommend(movie):\n",
    "    recommended_movies = []\n",
    "    # fetch index from movie name\n",
    "    index = movies_new[movies_new['title'] == movie].index[0]\n",
    "\n",
    "    # find distance matrix\n",
    "    distances = similarity[index]\n",
    "\n",
    "    '''The enumerate() function adds a counter and returns pairs of (index, value) \n",
    "    We will Sort the movie distances(on actual distance not index) in ascending order (higher the distance more similar) \n",
    "    and pick Top 5 '''\n",
    "    sorted_movies = sorted(list(enumerate(distances)),reverse=True,key=lambda x:x[1])[1:6]\n",
    "\n",
    "    # Finally will fetch the movie name from the index\n",
    "    for item in sorted_movies:\n",
    "        recommended_movies.append(movies_new.iloc[item[0]]['title'])\n",
    "    return recommended_movies"
   ]
  },
  {
   "cell_type": "code",
   "execution_count": 34,
   "id": "6d2c272b",
   "metadata": {
    "execution": {
     "iopub.execute_input": "2025-08-16T07:33:04.301941Z",
     "iopub.status.busy": "2025-08-16T07:33:04.301570Z",
     "iopub.status.idle": "2025-08-16T07:33:04.310728Z",
     "shell.execute_reply": "2025-08-16T07:33:04.309653Z"
    },
    "papermill": {
     "duration": 0.021629,
     "end_time": "2025-08-16T07:33:04.312433",
     "exception": false,
     "start_time": "2025-08-16T07:33:04.290804",
     "status": "completed"
    },
    "tags": []
   },
   "outputs": [
    {
     "data": {
      "text/plain": [
       "19995"
      ]
     },
     "execution_count": 34,
     "metadata": {},
     "output_type": "execute_result"
    }
   ],
   "source": [
    "#recommend('Batman')\n",
    "index = movies_new[movies_new['title'] == 'Avatar']['id'][0]\n",
    "index"
   ]
  },
  {
   "cell_type": "code",
   "execution_count": 35,
   "id": "56e7c59c",
   "metadata": {
    "execution": {
     "iopub.execute_input": "2025-08-16T07:33:04.332564Z",
     "iopub.status.busy": "2025-08-16T07:33:04.331580Z",
     "iopub.status.idle": "2025-08-16T07:33:04.708069Z",
     "shell.execute_reply": "2025-08-16T07:33:04.707006Z"
    },
    "papermill": {
     "duration": 0.38863,
     "end_time": "2025-08-16T07:33:04.710079",
     "exception": false,
     "start_time": "2025-08-16T07:33:04.321449",
     "status": "completed"
    },
    "tags": []
   },
   "outputs": [],
   "source": [
    "import pickle as pkl\n",
    "\n",
    "pkl.dump(movies_new.to_dict(), open('movies_dict.pkl','wb'))\n",
    "pkl.dump(similarity,open('similarity_matrix','wb'))"
   ]
  }
 ],
 "metadata": {
  "kaggle": {
   "accelerator": "none",
   "dataSources": [
    {
     "datasetId": 138,
     "sourceId": 4508,
     "sourceType": "datasetVersion"
    }
   ],
   "dockerImageVersionId": 31089,
   "isGpuEnabled": false,
   "isInternetEnabled": false,
   "language": "python",
   "sourceType": "notebook"
  },
  "kernelspec": {
   "display_name": "Python 3",
   "language": "python",
   "name": "python3"
  },
  "language_info": {
   "codemirror_mode": {
    "name": "ipython",
    "version": 3
   },
   "file_extension": ".py",
   "mimetype": "text/x-python",
   "name": "python",
   "nbconvert_exporter": "python",
   "pygments_lexer": "ipython3",
   "version": "3.11.13"
  },
  "papermill": {
   "default_parameters": {},
   "duration": 26.353502,
   "end_time": "2025-08-16T07:33:05.642230",
   "environment_variables": {},
   "exception": null,
   "input_path": "__notebook__.ipynb",
   "output_path": "__notebook__.ipynb",
   "parameters": {},
   "start_time": "2025-08-16T07:32:39.288728",
   "version": "2.6.0"
  }
 },
 "nbformat": 4,
 "nbformat_minor": 5
}
